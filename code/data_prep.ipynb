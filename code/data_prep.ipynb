{
 "cells": [
  {
   "cell_type": "markdown",
   "id": "7e1348fc-9dcb-4a92-91d4-621d0376b402",
   "metadata": {},
   "source": [
    "# Data Prep\n",
    "<font size=4 color='blue'>Project: Congressional Data Scrape and Validation</font>\n",
    "***\n",
    "\n",
    "**Project Summary:**  \n",
    "The Resume of Congressional Activity has been published annually since 1947. PDF versions of this document are available for download from several US government websites, including <a href=\"https://senate.gov\">senate.gov</a>. The primary goal of this project is to scrape the data from these documents and create a dataset that can be used for analysis.\n",
    "\n",
    "\n",
    "**Notebook Scope:**  \n",
    "This notebook reads formatted data from Excel and prepares the data for validation. \n",
    "\n",
    "**Output:**  \n",
    "Scrubbed data is saved to an Excel file for further validation and analysis."
   ]
  },
  {
   "cell_type": "markdown",
   "id": "d6e81741-dd2d-405c-a26b-aba7418f0fee",
   "metadata": {},
   "source": [
    "***\n",
    "# Notebook Setup\n",
    "***"
   ]
  },
  {
   "cell_type": "code",
   "execution_count": 1,
   "id": "e3e04588-e5b2-4182-a7fb-b6f2d978a0d6",
   "metadata": {},
   "outputs": [],
   "source": [
    "# Import libraries\n",
    "import os\n",
    "import pandas as pd\n",
    "import re"
   ]
  },
  {
   "cell_type": "code",
   "execution_count": 2,
   "id": "6a00bcc5-34b7-48fd-84ca-805e78799cfc",
   "metadata": {},
   "outputs": [
    {
     "data": {
      "text/html": [
       "<!-- Prevent text wrappping in dataframe displays for a cleaner print -->\n",
       "<style> .dataframe td {white-space: nowrap;}</style>\n"
      ],
      "text/plain": [
       "<IPython.core.display.HTML object>"
      ]
     },
     "metadata": {},
     "output_type": "display_data"
    }
   ],
   "source": [
    "%%html\n",
    "<!-- Prevent text wrappping in dataframe displays for a cleaner print -->\n",
    "<style> .dataframe td {white-space: nowrap;}</style>"
   ]
  },
  {
   "cell_type": "markdown",
   "id": "e2396705-ea72-4247-89ca-e3f0b9a6fdea",
   "metadata": {},
   "source": [
    "***\n",
    "# Read General Data\n",
    "***"
   ]
  },
  {
   "cell_type": "code",
   "execution_count": 3,
   "id": "da5a86d9-df4b-44dd-8c8d-81ed476e2635",
   "metadata": {},
   "outputs": [
    {
     "name": "stdout",
     "output_type": "stream",
     "text": [
      "['98_1.xlsm', '98_2.xlsm', '99_1.xlsm', '99_2.xlsm']\n"
     ]
    }
   ],
   "source": [
    "# Create a list of files to read\n",
    "raw_text_a = []\n",
    "path = '../Data/ResumesScrubbed/LegislativeActivity/'\n",
    "files = os.listdir(path)\n",
    "print(files)"
   ]
  },
  {
   "cell_type": "code",
   "execution_count": 4,
   "id": "1e26b0fa-8696-4f79-bdbb-71e5b84b2fc8",
   "metadata": {},
   "outputs": [],
   "source": [
    "# Create a list to contain the contents of each file\n",
    "leg_act_list = []"
   ]
  },
  {
   "cell_type": "code",
   "execution_count": 5,
   "id": "074f19d7-a75e-4bb3-9892-93679d37b92c",
   "metadata": {},
   "outputs": [],
   "source": [
    "# Read each file and concat to the legislative activity dataframe\n",
    "for file_name in files:\n",
    "    file_cont_df = pd.read_excel(path + file_name, index_col=0)\n",
    "    file_cont_df.index = file_cont_df.index.str.strip()\n",
    "    leg_act_list.append(file_cont_df)"
   ]
  },
  {
   "cell_type": "code",
   "execution_count": 6,
   "id": "d88a45fb-b9b6-4535-850f-46b3bde4fd87",
   "metadata": {},
   "outputs": [
    {
     "data": {
      "text/html": [
       "<div>\n",
       "<style scoped>\n",
       "    .dataframe tbody tr th:only-of-type {\n",
       "        vertical-align: middle;\n",
       "    }\n",
       "\n",
       "    .dataframe tbody tr th {\n",
       "        vertical-align: top;\n",
       "    }\n",
       "\n",
       "    .dataframe thead th {\n",
       "        text-align: right;\n",
       "    }\n",
       "</style>\n",
       "<table border=\"1\" class=\"dataframe\">\n",
       "  <thead>\n",
       "    <tr style=\"text-align: right;\">\n",
       "      <th></th>\n",
       "      <th>Senate</th>\n",
       "      <th>House</th>\n",
       "      <th>Total</th>\n",
       "    </tr>\n",
       "  </thead>\n",
       "  <tbody>\n",
       "    <tr>\n",
       "      <th>Congress</th>\n",
       "      <td>98</td>\n",
       "      <td>98</td>\n",
       "      <td>98</td>\n",
       "    </tr>\n",
       "    <tr>\n",
       "      <th>Session</th>\n",
       "      <td>1</td>\n",
       "      <td>1</td>\n",
       "      <td>1</td>\n",
       "    </tr>\n",
       "    <tr>\n",
       "      <th>Start Date</th>\n",
       "      <td>1983-01-03 00:00:00</td>\n",
       "      <td>1983-01-03 00:00:00</td>\n",
       "      <td>1983-01-03 00:00:00</td>\n",
       "    </tr>\n",
       "    <tr>\n",
       "      <th>End Date</th>\n",
       "      <td>1983-11-18 00:00:00</td>\n",
       "      <td>1983-11-18 00:00:00</td>\n",
       "      <td>1983-11-18 00:00:00</td>\n",
       "    </tr>\n",
       "    <tr>\n",
       "      <th>Days in session</th>\n",
       "      <td>150</td>\n",
       "      <td>146</td>\n",
       "      <td>NaN</td>\n",
       "    </tr>\n",
       "  </tbody>\n",
       "</table>\n",
       "</div>"
      ],
      "text/plain": [
       "                              Senate                House                Total\n",
       "Congress                          98                   98                   98\n",
       "Session                            1                    1                    1\n",
       "Start Date       1983-01-03 00:00:00  1983-01-03 00:00:00  1983-01-03 00:00:00\n",
       "End Date         1983-11-18 00:00:00  1983-11-18 00:00:00  1983-11-18 00:00:00\n",
       "Days in session                  150                  146                  NaN"
      ]
     },
     "execution_count": 6,
     "metadata": {},
     "output_type": "execute_result"
    }
   ],
   "source": [
    "# Preview file contents\n",
    "leg_act_list[0].head()"
   ]
  },
  {
   "cell_type": "markdown",
   "id": "110e8f0b-a799-4883-84e9-946fde27db1b",
   "metadata": {},
   "source": [
    "***\n",
    "## Validate Variable Names\n",
    "***"
   ]
  },
  {
   "cell_type": "code",
   "execution_count": 7,
   "id": "29037373-117f-40bb-a492-3675ca800fdd",
   "metadata": {},
   "outputs": [],
   "source": [
    "# Define standard variables (column headings). This list will be used to validate the dataframes before merging\n",
    "std_headings = ['Congress', 'Session', 'Start Date', 'End Date', 'Days in session', 'Time in session', 'Pages of proceedings',\n",
    "                'Extensions of remarks', 'Public bills enacted into law', 'Private bills enacted into law', 'Bills in conference',\n",
    "                'Bills through conference', 'Measures passed, total', 'Measures passed, Senate bills', 'Measures passed, House bills',\n",
    "                'Measures passed, Senate joint resolutions', 'Measures passed, House joint resolutions', \n",
    "                'Measures passed, Senate concurrent resolutions', 'Measures passed, House concurrent resolutions', \n",
    "                'Measures passed, Simple resolutions', 'Measures reported, total', 'Measures reported, Senate bills',\n",
    "                'Measures reported, House bills', 'Measures reported, Senate joint resolutions', 'Measures reported, House joint resolutions',\n",
    "                'Measures reported, Senate concurrent resolutions', 'Measures reported, House concurrent resolutions',\n",
    "                'Measures reported, Simple resolutions', 'Special reports', 'Conference reports',\n",
    "                'Measures pending on calendar', 'Measures introduced, total', 'Measures introduced, Bills', \n",
    "                'Measures introduced, Joint resolutions', 'Measures introduced, Concurrent resolutions', \n",
    "                'Measures introduced, Simple resolutions', 'Quorum calls', 'Yea-and-nay votes', 'Recorded votes', 'Bills vetoed', \n",
    "                'Vetoes overridden']"
   ]
  },
  {
   "cell_type": "code",
   "execution_count": 8,
   "id": "54e197ba-2559-4273-821e-ed302c268666",
   "metadata": {},
   "outputs": [],
   "source": [
    "# Review labels from each file and flag any that do not exist in the std_headings list\n",
    "for df in leg_act_list:\n",
    "     for label in df.index:\n",
    "         if label not in std_headings:\n",
    "             print(f'{df.at['Congress', 'Senate']}, {df.at['Session', 'Senate']}: {label}')"
   ]
  },
  {
   "cell_type": "markdown",
   "id": "8023f387-4332-456d-b6aa-78f5f6d493a5",
   "metadata": {},
   "source": [
    "***\n",
    "<font color='blue'>**Note:**</font>  \n",
    "Any typos found were updated directly in the Excel files."
   ]
  },
  {
   "cell_type": "markdown",
   "id": "022d90d1-d06e-4e7c-8401-355148f2a88f",
   "metadata": {},
   "source": [
    "***\n",
    "## Merge Data\n",
    "***"
   ]
  },
  {
   "cell_type": "code",
   "execution_count": 9,
   "id": "5dfd424a-c174-4e09-b2c1-81e52070fe0b",
   "metadata": {},
   "outputs": [],
   "source": [
    "# Create dataframe for merged data\n",
    "gen_activity_df = pd.DataFrame()"
   ]
  },
  {
   "cell_type": "code",
   "execution_count": 10,
   "id": "dc9160cb-2114-4ac8-9e4e-3c27a21379c2",
   "metadata": {},
   "outputs": [],
   "source": [
    "# Transpose the dataframe read from each file and add to the general activity dataframe\n",
    "for df in leg_act_list:\n",
    "    df = df.transpose().reset_index()\n",
    "    gen_activity_df = pd.concat([gen_activity_df, df], ignore_index=True)"
   ]
  },
  {
   "cell_type": "code",
   "execution_count": 11,
   "id": "06bffc9d-288e-4621-bb33-810d84051859",
   "metadata": {},
   "outputs": [
    {
     "data": {
      "text/html": [
       "<div>\n",
       "<style scoped>\n",
       "    .dataframe tbody tr th:only-of-type {\n",
       "        vertical-align: middle;\n",
       "    }\n",
       "\n",
       "    .dataframe tbody tr th {\n",
       "        vertical-align: top;\n",
       "    }\n",
       "\n",
       "    .dataframe thead th {\n",
       "        text-align: right;\n",
       "    }\n",
       "</style>\n",
       "<table border=\"1\" class=\"dataframe\">\n",
       "  <thead>\n",
       "    <tr style=\"text-align: right;\">\n",
       "      <th></th>\n",
       "      <th>index</th>\n",
       "      <th>Congress</th>\n",
       "      <th>Session</th>\n",
       "      <th>Start Date</th>\n",
       "      <th>End Date</th>\n",
       "      <th>Days in session</th>\n",
       "      <th>Time in session</th>\n",
       "      <th>Pages of proceedings</th>\n",
       "      <th>Extensions of remarks</th>\n",
       "      <th>Public bills enacted into law</th>\n",
       "      <th>...</th>\n",
       "      <th>Measures introduced, total</th>\n",
       "      <th>Measures introduced, Bills</th>\n",
       "      <th>Measures introduced, Joint resolutions</th>\n",
       "      <th>Measures introduced, Concurrent resolutions</th>\n",
       "      <th>Measures introduced, Simple resolutions</th>\n",
       "      <th>Quorum calls</th>\n",
       "      <th>Yea-and-nay votes</th>\n",
       "      <th>Recorded votes</th>\n",
       "      <th>Bills vetoed</th>\n",
       "      <th>Vetoes overridden</th>\n",
       "    </tr>\n",
       "  </thead>\n",
       "  <tbody>\n",
       "    <tr>\n",
       "      <th>0</th>\n",
       "      <td>Senate</td>\n",
       "      <td>98</td>\n",
       "      <td>1</td>\n",
       "      <td>1983-01-03 00:00:00</td>\n",
       "      <td>1983-11-18 00:00:00</td>\n",
       "      <td>150</td>\n",
       "      <td>1,010 hrs, 47'</td>\n",
       "      <td>17224</td>\n",
       "      <td>NaN</td>\n",
       "      <td>101</td>\n",
       "      <td>...</td>\n",
       "      <td>2795</td>\n",
       "      <td>2198</td>\n",
       "      <td>209</td>\n",
       "      <td>86</td>\n",
       "      <td>302</td>\n",
       "      <td>18</td>\n",
       "      <td>381</td>\n",
       "      <td>NaN</td>\n",
       "      <td>3</td>\n",
       "      <td>NaN</td>\n",
       "    </tr>\n",
       "    <tr>\n",
       "      <th>1</th>\n",
       "      <td>House</td>\n",
       "      <td>98</td>\n",
       "      <td>1</td>\n",
       "      <td>1983-01-03 00:00:00</td>\n",
       "      <td>1983-11-18 00:00:00</td>\n",
       "      <td>146</td>\n",
       "      <td>851 hrs., 45'</td>\n",
       "      <td>10665</td>\n",
       "      <td>NaN</td>\n",
       "      <td>114</td>\n",
       "      <td>...</td>\n",
       "      <td>5642</td>\n",
       "      <td>4580</td>\n",
       "      <td>440</td>\n",
       "      <td>237</td>\n",
       "      <td>385</td>\n",
       "      <td>35</td>\n",
       "      <td>297</td>\n",
       "      <td>201</td>\n",
       "      <td>4</td>\n",
       "      <td>1</td>\n",
       "    </tr>\n",
       "    <tr>\n",
       "      <th>2</th>\n",
       "      <td>Total</td>\n",
       "      <td>98</td>\n",
       "      <td>1</td>\n",
       "      <td>1983-01-03 00:00:00</td>\n",
       "      <td>1983-11-18 00:00:00</td>\n",
       "      <td>NaN</td>\n",
       "      <td>NaN</td>\n",
       "      <td>27889</td>\n",
       "      <td>5985</td>\n",
       "      <td>215</td>\n",
       "      <td>...</td>\n",
       "      <td>8437</td>\n",
       "      <td>NaN</td>\n",
       "      <td>NaN</td>\n",
       "      <td>NaN</td>\n",
       "      <td>NaN</td>\n",
       "      <td>NaN</td>\n",
       "      <td>NaN</td>\n",
       "      <td>NaN</td>\n",
       "      <td>7</td>\n",
       "      <td>NaN</td>\n",
       "    </tr>\n",
       "    <tr>\n",
       "      <th>3</th>\n",
       "      <td>Senate</td>\n",
       "      <td>98</td>\n",
       "      <td>2</td>\n",
       "      <td>1984-01-23 00:00:00</td>\n",
       "      <td>1984-10-12 00:00:00</td>\n",
       "      <td>131</td>\n",
       "      <td>940 hrs., 28'</td>\n",
       "      <td>14650</td>\n",
       "      <td>NaN</td>\n",
       "      <td>166</td>\n",
       "      <td>...</td>\n",
       "      <td>1302</td>\n",
       "      <td>897</td>\n",
       "      <td>150</td>\n",
       "      <td>69</td>\n",
       "      <td>186</td>\n",
       "      <td>19</td>\n",
       "      <td>292</td>\n",
       "      <td>NaN</td>\n",
       "      <td>8</td>\n",
       "      <td>NaN</td>\n",
       "    </tr>\n",
       "    <tr>\n",
       "      <th>4</th>\n",
       "      <td>House</td>\n",
       "      <td>98</td>\n",
       "      <td>2</td>\n",
       "      <td>1984-01-23 00:00:00</td>\n",
       "      <td>1984-10-12 00:00:00</td>\n",
       "      <td>120</td>\n",
       "      <td>852 hrs., 59'</td>\n",
       "      <td>12,29</td>\n",
       "      <td>NaN</td>\n",
       "      <td>242</td>\n",
       "      <td>...</td>\n",
       "      <td>2462</td>\n",
       "      <td>1862</td>\n",
       "      <td>223</td>\n",
       "      <td>142</td>\n",
       "      <td>235</td>\n",
       "      <td>55</td>\n",
       "      <td>227</td>\n",
       "      <td>181</td>\n",
       "      <td>9</td>\n",
       "      <td>1</td>\n",
       "    </tr>\n",
       "  </tbody>\n",
       "</table>\n",
       "<p>5 rows × 42 columns</p>\n",
       "</div>"
      ],
      "text/plain": [
       "    index Congress Session           Start Date             End Date  \\\n",
       "0  Senate       98       1  1983-01-03 00:00:00  1983-11-18 00:00:00   \n",
       "1   House       98       1  1983-01-03 00:00:00  1983-11-18 00:00:00   \n",
       "2   Total       98       1  1983-01-03 00:00:00  1983-11-18 00:00:00   \n",
       "3  Senate       98       2  1984-01-23 00:00:00  1984-10-12 00:00:00   \n",
       "4   House       98       2  1984-01-23 00:00:00  1984-10-12 00:00:00   \n",
       "\n",
       "  Days in session Time in session Pages of proceedings Extensions of remarks  \\\n",
       "0             150  1,010 hrs, 47'                17224                   NaN   \n",
       "1             146   851 hrs., 45'                10665                   NaN   \n",
       "2             NaN             NaN                27889                  5985   \n",
       "3             131   940 hrs., 28'                14650                   NaN   \n",
       "4             120   852 hrs., 59'                12,29                   NaN   \n",
       "\n",
       "  Public bills enacted into law  ... Measures introduced, total  \\\n",
       "0                           101  ...                       2795   \n",
       "1                           114  ...                       5642   \n",
       "2                           215  ...                       8437   \n",
       "3                           166  ...                       1302   \n",
       "4                           242  ...                       2462   \n",
       "\n",
       "  Measures introduced, Bills Measures introduced, Joint resolutions  \\\n",
       "0                       2198                                    209   \n",
       "1                       4580                                    440   \n",
       "2                        NaN                                    NaN   \n",
       "3                        897                                    150   \n",
       "4                       1862                                    223   \n",
       "\n",
       "  Measures introduced, Concurrent resolutions  \\\n",
       "0                                          86   \n",
       "1                                         237   \n",
       "2                                         NaN   \n",
       "3                                          69   \n",
       "4                                         142   \n",
       "\n",
       "  Measures introduced, Simple resolutions Quorum calls Yea-and-nay votes  \\\n",
       "0                                     302           18               381   \n",
       "1                                     385           35               297   \n",
       "2                                     NaN          NaN               NaN   \n",
       "3                                     186           19               292   \n",
       "4                                     235           55               227   \n",
       "\n",
       "  Recorded votes Bills vetoed Vetoes overridden  \n",
       "0            NaN            3               NaN  \n",
       "1            201            4                 1  \n",
       "2            NaN            7               NaN  \n",
       "3            NaN            8               NaN  \n",
       "4            181            9                 1  \n",
       "\n",
       "[5 rows x 42 columns]"
      ]
     },
     "execution_count": 11,
     "metadata": {},
     "output_type": "execute_result"
    }
   ],
   "source": [
    "# Preview dataframe\n",
    "gen_activity_df.head()"
   ]
  },
  {
   "cell_type": "markdown",
   "id": "27f0684c-2073-4504-bc9c-2b8142c7b538",
   "metadata": {},
   "source": [
    "***\n",
    "## Validate Datatypes\n",
    "***"
   ]
  },
  {
   "cell_type": "code",
   "execution_count": 12,
   "id": "726710a5-f281-4bef-80ce-1aa322cc9a9d",
   "metadata": {},
   "outputs": [
    {
     "data": {
      "text/plain": [
       "index                                               object\n",
       "Congress                                            object\n",
       "Session                                             object\n",
       "Start Date                                          object\n",
       "End Date                                            object\n",
       "Days in session                                     object\n",
       "Time in session                                     object\n",
       "Pages of proceedings                                object\n",
       "Extensions of remarks                               object\n",
       "Public bills enacted into law                       object\n",
       "Private bills enacted into law                      object\n",
       "Bills in conference                                 object\n",
       "Bills through conference                            object\n",
       "Measures passed, total                              object\n",
       "Measures passed, Senate bills                       object\n",
       "Measures passed, House bills                        object\n",
       "Measures passed, Senate joint resolutions           object\n",
       "Measures passed, House joint resolutions            object\n",
       "Measures passed, Senate concurrent resolutions      object\n",
       "Measures passed, House concurrent resolutions       object\n",
       "Measures passed, Simple resolutions                 object\n",
       "Measures reported, total                            object\n",
       "Measures reported, Senate bills                     object\n",
       "Measures reported, House bills                      object\n",
       "Measures reported, Senate joint resolutions         object\n",
       "Measures reported, House joint resolutions          object\n",
       "Measures reported, Senate concurrent resolutions    object\n",
       "Measures reported, House concurrent resolutions     object\n",
       "Measures reported, Simple resolutions               object\n",
       "Special reports                                     object\n",
       "Conference reports                                  object\n",
       "Measures pending on calendar                        object\n",
       "Measures introduced, total                          object\n",
       "Measures introduced, Bills                          object\n",
       "Measures introduced, Joint resolutions              object\n",
       "Measures introduced, Concurrent resolutions         object\n",
       "Measures introduced, Simple resolutions             object\n",
       "Quorum calls                                        object\n",
       "Yea-and-nay votes                                   object\n",
       "Recorded votes                                      object\n",
       "Bills vetoed                                        object\n",
       "Vetoes overridden                                   object\n",
       "dtype: object"
      ]
     },
     "execution_count": 12,
     "metadata": {},
     "output_type": "execute_result"
    }
   ],
   "source": [
    "# Review current datatypes\n",
    "gen_activity_df.dtypes"
   ]
  },
  {
   "cell_type": "code",
   "execution_count": 13,
   "id": "83a9a65c-a8a4-4b31-a661-a19bd1408da2",
   "metadata": {},
   "outputs": [],
   "source": [
    "# Infer datatypes\n",
    "gen_activity_df = gen_activity_df.infer_objects()"
   ]
  },
  {
   "cell_type": "code",
   "execution_count": 15,
   "id": "bbfe9a60-c5b6-4eb8-a26c-34ea7968553d",
   "metadata": {},
   "outputs": [
    {
     "data": {
      "text/plain": [
       "index                                                       object\n",
       "Congress                                                     int64\n",
       "Session                                                      int64\n",
       "Start Date                                          datetime64[ns]\n",
       "End Date                                            datetime64[ns]\n",
       "Days in session                                            float64\n",
       "Time in session                                             object\n",
       "Pages of proceedings                                        object\n",
       "Extensions of remarks                                      float64\n",
       "Public bills enacted into law                                int64\n",
       "Private bills enacted into law                              object\n",
       "Bills in conference                                        float64\n",
       "Bills through conference                                   float64\n",
       "Measures passed, total                                      object\n",
       "Measures passed, Senate bills                              float64\n",
       "Measures passed, House bills                               float64\n",
       "Measures passed, Senate joint resolutions                  float64\n",
       "Measures passed, House joint resolutions                   float64\n",
       "Measures passed, Senate concurrent resolutions             float64\n",
       "Measures passed, House concurrent resolutions              float64\n",
       "Measures passed, Simple resolutions                        float64\n",
       "Measures reported, total                                     int64\n",
       "Measures reported, Senate bills                            float64\n",
       "Measures reported, House bills                              object\n",
       "Measures reported, Senate joint resolutions                float64\n",
       "Measures reported, House joint resolutions                 float64\n",
       "Measures reported, Senate concurrent resolutions           float64\n",
       "Measures reported, House concurrent resolutions            float64\n",
       "Measures reported, Simple resolutions                      float64\n",
       "Special reports                                            float64\n",
       "Conference reports                                         float64\n",
       "Measures pending on calendar                               float64\n",
       "Measures introduced, total                                   int64\n",
       "Measures introduced, Bills                                 float64\n",
       "Measures introduced, Joint resolutions                     float64\n",
       "Measures introduced, Concurrent resolutions                float64\n",
       "Measures introduced, Simple resolutions                    float64\n",
       "Quorum calls                                               float64\n",
       "Yea-and-nay votes                                          float64\n",
       "Recorded votes                                             float64\n",
       "Bills vetoed                                               float64\n",
       "Vetoes overridden                                          float64\n",
       "dtype: object"
      ]
     },
     "execution_count": 15,
     "metadata": {},
     "output_type": "execute_result"
    }
   ],
   "source": [
    "# Review updated datatypes\n",
    "gen_activity_df.dtypes"
   ]
  },
  {
   "cell_type": "markdown",
   "id": "1c3a2618-c50a-4bde-811c-e61ae8c6c08d",
   "metadata": {},
   "source": [
    "***\n",
    "## Write to Excel\n",
    "***"
   ]
  },
  {
   "cell_type": "code",
   "execution_count": 18,
   "id": "1124abd7-e0cc-4571-929f-d6fda09ca68e",
   "metadata": {},
   "outputs": [],
   "source": [
    "gen_activity_df.to_excel('../Data/GeneralLegislativeData.xlsx', index=False)"
   ]
  },
  {
   "cell_type": "markdown",
   "id": "cb5739bf-91cd-4e55-ac6d-6a1e4bd435ab",
   "metadata": {},
   "source": [
    "***\n",
    "# Read Confirmation Data\n",
    "***"
   ]
  },
  {
   "cell_type": "code",
   "execution_count": 3,
   "id": "a6f82109-1294-4ad0-8dc2-548affffd85b",
   "metadata": {},
   "outputs": [
    {
     "name": "stdout",
     "output_type": "stream",
     "text": [
      "['98_1.xlsm', '98_2.xlsm', '99_1.xlsm', '99_2.xlsm']\n"
     ]
    }
   ],
   "source": [
    "# Create a list of files to read\n",
    "raw_text_a = []\n",
    "path = '../Data/ResumesScrubbed/LegislativeActivity/'\n",
    "files = os.listdir(path)\n",
    "print(files)"
   ]
  },
  {
   "cell_type": "code",
   "execution_count": 4,
   "id": "5d783b0c-5576-484f-9008-05fdc5b47096",
   "metadata": {},
   "outputs": [],
   "source": [
    "# Create a list to contain the contents of each file\n",
    "leg_act_list = []"
   ]
  },
  {
   "cell_type": "code",
   "execution_count": 5,
   "id": "ce47204b-3758-433b-ae6e-457e288c5731",
   "metadata": {},
   "outputs": [],
   "source": [
    "# Read each file and concat to the legislative activity dataframe\n",
    "for file_name in files:\n",
    "    file_cont_df = pd.read_excel(path + file_name, index_col=0)\n",
    "    file_cont_df.index = file_cont_df.index.str.strip()\n",
    "    leg_act_list.append(file_cont_df)"
   ]
  },
  {
   "cell_type": "code",
   "execution_count": 6,
   "id": "bb5db5b2-55bb-42ae-85f2-23ef46304dfa",
   "metadata": {},
   "outputs": [
    {
     "data": {
      "text/html": [
       "<div>\n",
       "<style scoped>\n",
       "    .dataframe tbody tr th:only-of-type {\n",
       "        vertical-align: middle;\n",
       "    }\n",
       "\n",
       "    .dataframe tbody tr th {\n",
       "        vertical-align: top;\n",
       "    }\n",
       "\n",
       "    .dataframe thead th {\n",
       "        text-align: right;\n",
       "    }\n",
       "</style>\n",
       "<table border=\"1\" class=\"dataframe\">\n",
       "  <thead>\n",
       "    <tr style=\"text-align: right;\">\n",
       "      <th></th>\n",
       "      <th>Senate</th>\n",
       "      <th>House</th>\n",
       "      <th>Total</th>\n",
       "    </tr>\n",
       "  </thead>\n",
       "  <tbody>\n",
       "    <tr>\n",
       "      <th>Congress</th>\n",
       "      <td>98</td>\n",
       "      <td>98</td>\n",
       "      <td>98</td>\n",
       "    </tr>\n",
       "    <tr>\n",
       "      <th>Session</th>\n",
       "      <td>1</td>\n",
       "      <td>1</td>\n",
       "      <td>1</td>\n",
       "    </tr>\n",
       "    <tr>\n",
       "      <th>Start Date</th>\n",
       "      <td>1983-01-03 00:00:00</td>\n",
       "      <td>1983-01-03 00:00:00</td>\n",
       "      <td>1983-01-03 00:00:00</td>\n",
       "    </tr>\n",
       "    <tr>\n",
       "      <th>End Date</th>\n",
       "      <td>1983-11-18 00:00:00</td>\n",
       "      <td>1983-11-18 00:00:00</td>\n",
       "      <td>1983-11-18 00:00:00</td>\n",
       "    </tr>\n",
       "    <tr>\n",
       "      <th>Days in session</th>\n",
       "      <td>150</td>\n",
       "      <td>146</td>\n",
       "      <td>NaN</td>\n",
       "    </tr>\n",
       "  </tbody>\n",
       "</table>\n",
       "</div>"
      ],
      "text/plain": [
       "                              Senate                House                Total\n",
       "Congress                          98                   98                   98\n",
       "Session                            1                    1                    1\n",
       "Start Date       1983-01-03 00:00:00  1983-01-03 00:00:00  1983-01-03 00:00:00\n",
       "End Date         1983-11-18 00:00:00  1983-11-18 00:00:00  1983-11-18 00:00:00\n",
       "Days in session                  150                  146                  NaN"
      ]
     },
     "execution_count": 6,
     "metadata": {},
     "output_type": "execute_result"
    }
   ],
   "source": [
    "# Preview file contents\n",
    "leg_act_list[0].head()"
   ]
  },
  {
   "cell_type": "code",
   "execution_count": null,
   "id": "f401156b-5176-4fb5-90dd-71f59f83c411",
   "metadata": {},
   "outputs": [],
   "source": []
  },
  {
   "cell_type": "code",
   "execution_count": null,
   "id": "b985fe1f-7550-4b6f-86f5-71c8d5ba0567",
   "metadata": {},
   "outputs": [],
   "source": []
  },
  {
   "cell_type": "code",
   "execution_count": null,
   "id": "84244d6a-e94a-4356-a96b-49bcbf1cd622",
   "metadata": {},
   "outputs": [],
   "source": []
  },
  {
   "cell_type": "markdown",
   "id": "c9ccbc81-2fca-4f53-9a26-25a20b47ca5d",
   "metadata": {},
   "source": [
    "***\n",
    "**End**\n",
    "***"
   ]
  }
 ],
 "metadata": {
  "kernelspec": {
   "display_name": "Python 3 (ipykernel)",
   "language": "python",
   "name": "python3"
  },
  "language_info": {
   "codemirror_mode": {
    "name": "ipython",
    "version": 3
   },
   "file_extension": ".py",
   "mimetype": "text/x-python",
   "name": "python",
   "nbconvert_exporter": "python",
   "pygments_lexer": "ipython3",
   "version": "3.12.2"
  }
 },
 "nbformat": 4,
 "nbformat_minor": 5
}
