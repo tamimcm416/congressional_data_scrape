{
 "cells": [
  {
   "cell_type": "markdown",
   "id": "8d2f7937-32d9-4c82-ab36-74ed023be32a",
   "metadata": {},
   "source": [
    "# PDF Scrape Testing\n",
    "<font size=4 color='blue'>Project: Congressional Data Scrape and Validation</font>\n",
    "***\n",
    "\n",
    "**Project Summary:**  \n",
    "The Resume of Congressional Activity has been published annually since 1947. PDF versions of this document are available for download from several US government websites, including <a href=\"https://senate.gov\">senate.gov</a>. The primary goal of this project is to scrape the data from these documents and create a dataset that can be used for analysis.\n",
    "\n",
    "\n",
    "**Notebook Scope:**  \n",
    "This notebook tests various processes for collecting data from PDF files. \n",
    "\n",
    "**Output:**  \n",
    "n/a\n"
   ]
  },
  {
   "cell_type": "markdown",
   "id": "059b4293-7421-4dec-b0fe-25d4951f4c02",
   "metadata": {
    "tags": []
   },
   "source": [
    "***  \n",
    "# Test: pypdf\n",
    "Documentation available at <a href='https://pypi.org/project/pypdf/'>PyPI</a>.\n",
    "***"
   ]
  },
  {
   "cell_type": "code",
   "execution_count": 2,
   "id": "85a71f36-b1de-44a8-a099-1839a361a606",
   "metadata": {},
   "outputs": [],
   "source": [
    "import pypdf"
   ]
  },
  {
   "cell_type": "code",
   "execution_count": 3,
   "id": "b305efcf-8b09-48ff-a7b9-2b8e548eace4",
   "metadata": {
    "scrolled": true
   },
   "outputs": [],
   "source": [
    "# Read an example resume that has been converted to editable text in Acrobat\n",
    "pdf = pypdf.PdfReader('../PDF Tests/Test3 98res - Adobe OCR.pdf')"
   ]
  },
  {
   "cell_type": "code",
   "execution_count": 4,
   "id": "1f617999-104c-44cc-bcf6-b299060034ad",
   "metadata": {},
   "outputs": [
    {
     "data": {
      "text/plain": [
       "\"<tongrtssionat Rtcord \\nUnited States \\nof America PROCEEDINGS AND DEBATES OF THE 9 7 lb CONGRESS, SECOND SESSION \\nVol 130 WASHINGTON, WEDNESnAY, NOVEMBER 14, 1984 No. 136 \\nDaily Digest \\nRESUME OF CONGRESSIONAL ACTIVITY OF THE NINETY-EIGHTH CONGRESS \\nFIRST SESSION \\nJanuary 3 through November 18, 1983 \\nSmau \\nDays in session...................... 1~ \\nTime in session ... ; .................. 1,010 hrs., 47' \\nCongressional Record: \\nPages of proceedings .... .. \\nExtensions of Remarks .. . \\nPublic bills enacted into law .. \\nPrivate bills enacted into law. \\nBills in conference ............... .. \\nBills through conference ..... .. \\nMeasures passed, total ........ ; .. \\nSenate bills .................... . \\nHouse bills .................... . \\nSenate joint resolutions .. \\nHouse joint resolutions .. \\nSenate concurrent reso-\\nlutions ....................... . \\nHouse concurrent reso-\\nlutions ..................... ; .. \\nSimple resolutions ......... . \\nMeasures reported, total ...... .. \\nSenate bills ................... .. \\nHouse bills .................... . \\nSenate joint resolutions .. \\nHouse joint resolutions .. \\nSenate concurrent reso-\\nlutions ....................... . \\nHouse concurrent reso-\\nlutions ....................... . \\nSimple resolutions ......... . \\nSpecial reports ..................... .. \\nConference reports ............... . \\nMeasures pending on calen-\\ndar .................................... . \\nMeasures introduced, total .. .. \\nBills ............................. .. \\nJoif!t resolutions ........... .. \\nConcurrent resolutions .. . \\nSimple resolutions ........ .. \\nQuorum calls ...................... .. . \\nYea-and-nay votes ................ . \\nRecorded votes ................... .. \\nBills vetoed ............... .......... .. \\nVetoes overridden ................ . 17,224 \\n101 \\n3 \\n4 \\n596 \\n170 \\n99 \\n89 \\n34 \\n25 \\n15 \\n164 \\n*570 \\n270 \\n44 \\n87 \\n9 \\n19 \\n2 \\n139 \\n25 \\n4 \\n155 \\n2,795 \\n2,198 \\n209 \\n86 \\n302 \\n18 \\n381 \\n3 Hr>use \\n146 \\n851 hrs., 45' \\n10,665 \\n114 \\n6 \\n2 \\n29 \\n611 \\n70 \\n234 \\n46 \\n49 \\n16 \\n31 \\n165 \\n*497 \\n23 \\n327 \\n9 \\n3 \\n7 \\n132 \\n54 \\n33 \\n105 Total \\n27,889 \\n5,985 \\n215 \\n6 \\n5 \\n33 \\n1,207 \\n1,067 \\n5,642 8,437 \\n4,580 \\n440 \\n237 \\n385 \\n35 \\n297 \\n201 \\n4 7 \\n1 SECOND SESSION \\nJanuary 23 through October 12, 1984 \\nDays in session ..................... . \\nTime in session .................... .. \\nCongressional Record: \\nPages of proceedings .... .. \\nExtensions of Remarks .. . \\nPublic bills enacted into law .. \\nPrivate bills enacted into law . \\nBills in conference : ............... . \\nBills through c&ference ...... . \\nMeasures passed, total .......... . \\nSenate bills .................... . \\nHouse bills ................ : ... . \\nSenate joint resolutions .. \\nHouse joint resolutions .. \\nSenate concurrent reso-\\nlutions ..................... : .. \\nHouse concurrent reso-\\nlutions .................. -..... . \\nSimple resolutions ........ .. \\nMeasures reported, total ...... .. \\nSenate bills .................... . \\nHouse bills .................... . \\nSenate joint resolutions .. \\nHouse joint resolutions .. \\nSenate concurrent reso-\\nlutions .................. , .... . \\nHouse concurrent reso-\\nlutions ....................... . \\nSimple resolutions ......... . \\nSpecial reports ..................... .. \\nConference reports ............... . \\nMeasures pending· on calen-\\ndar ..................................... . \\nMeasures introduced , total .. .. \\nBills ............................. .. \\nJoint resolutions .......... : .. \\nConcurrent resolutions .. . \\nSimple resolutions ......... . \\nQuorum calls, ....................... . \\nYea-and-nay votes ................ . \\nRecorded votes ................... .. \\nBills. vetoed ........................ .'.; \\nVetoes overridden ................ . Senate House Total \\n131 120 \\n940 hrs., 28' 852 hrs., 59' \\n14,650 \\n166 \\n17 \\n5 \\n22 \\n726 \\n159 \\n240 \\n90 \\n55 \\n24 \\n40 \\n118 \\n*568 \\n230 \\n80 \\n99 \\n16 \\n17 \\n4 \\n122 \\n11 \\n221 \\n1,302 \\n897 \\n150 \\n69 \\n186 \\n19 \\n292 \\n8 12,29~ \\n242 \\n29 \\n6 \\n30 \\n737 \\n128 \\n323 \\n67 \\n61 \\n18 \\n4Z \\n1n \\n*482 \\n26 \\n:m \\n2 \\n12 \\n2 \\n105 \\n45 \\n53. \\n122 26,896 \\n4,580 \\n408 \\n4'i \\n11 \\n52 \\n1,463 \\n1,050 \\n2,462 3,764 \\n1,862 \\n223 \\n142 \\n235 \\n-·55 \\n227 \\n181 \\n9 17 \\n1 \\n*These figures ori measures reported include all placed on calendar or acted on by Senate even if there was no accompanying report. In the Senate \\n344 reports were filed during the first session and 320 in the second session; while the House filed· 588 in the first session and 580 in the second session. \\nD 1347 \""
      ]
     },
     "execution_count": 4,
     "metadata": {},
     "output_type": "execute_result"
    }
   ],
   "source": [
    "pg1_text = pdf.pages[0].extract_text()\n",
    "pg1_text"
   ]
  },
  {
   "cell_type": "markdown",
   "id": "95d77b22-1831-48e0-83a5-c5018df1f8fc",
   "metadata": {},
   "source": [
    "***\n",
    "<font color='blue'>**Note:**</font>  \n",
    "By default, pypdf is reading the page as a series of columns. However, the columns are being read one-by-one from top to bottom. It would be nearly impossible to match the labels values in this format."
   ]
  },
  {
   "cell_type": "code",
   "execution_count": 5,
   "id": "567670a9-f12e-4c8c-bbf1-8e25e4e8a88e",
   "metadata": {},
   "outputs": [],
   "source": [
    "# Let's try reading the file using layout mode\n",
    "output = pdf.pages[0].extract_text(extraction_mode='layout')"
   ]
  },
  {
   "cell_type": "code",
   "execution_count": 6,
   "id": "397feea7-988a-4129-9f7b-df30add9af7f",
   "metadata": {},
   "outputs": [
    {
     "name": "stdout",
     "output_type": "stream",
     "text": [
      "\"                                                   <tongrtssionat         Rtcord\\n\\n   United             States                                                                                                                                                9 7 lb                 CONGRESS,              SECOND                  SESSION\\n      of America                                                                                                                                              PROCEEDINGS                    AND              DEBATES              OF          THE\\n\\nVol        130                                                                                                                                                                                     WASHINGTON, WEDNESnAY, NOVEMBER 14,       1984                                                                                                                                                                                                                                                                    No.            136\\n                                                                                              Daily                                       Digest\\n\\n                                    RESUME                  OF       CONGRESSIONAL                       ACTIVITY                  OF        THE          NINETY-EIGHTH                                                  CONGRESS\\n                                                FIRST             SESSION                                                                                                                     SECOND               SESSION\\n                          January           3 through         November                    18,        1983                                                                     January           23        through         October             12,   1984\\n                                                                                   Smau                       Hr>use           Total                                                                                                 Senate                     House            Total\\nDays  in session..    ......  . ...  ..........                                     1~                            146                            Days     in  session .........       ..   .......... .              940 hrs., 28' 131                                                                                                                                                                                       120 852 hrs., 59'\\nTime     in  session ... ; ...........      ..   .....     1,010 hrs., 47'                      851     hrs., 45'                                Time      in  session ......   ............        .. ..\\nCongressional Record:                                                                                                                             Congressional   Record: Pages of proceedings .... ..                          14,650                        12,29~          26,896\\n          Pages of proceedings ..  .. ..                                       17,224                       10,665         27,889                                                                                                                                              4,580\\n          Extensions of Remarks .. .                                                              \"\n"
     ]
    }
   ],
   "source": [
    "print(repr(output[:3500]))"
   ]
  },
  {
   "cell_type": "markdown",
   "id": "4d37f8a6-5106-4c48-a4bb-f55b4a1ded5a",
   "metadata": {},
   "source": [
    "***\n",
    "<font color='blue'>**Conclusion:**</font>  \n",
    "Using the layout mode, pypdf results are usable, but would require a lot of manipulation"
   ]
  },
  {
   "cell_type": "markdown",
   "id": "6a6bf6f0-19d7-48bd-8d9e-5ccf89261c76",
   "metadata": {
    "tags": []
   },
   "source": [
    "***  \n",
    "# Test: pdfminer\n",
    "Documentation available at <a href='https://pdfminersix.readthedocs.io/en/latest/'>pdfminsersix.readthedocs.io </a>.\n",
    "***"
   ]
  },
  {
   "cell_type": "code",
   "execution_count": 7,
   "id": "9a132f53-9d3d-4a41-9e67-b265813eaaf9",
   "metadata": {},
   "outputs": [],
   "source": [
    "from pdfminer.high_level import extract_text"
   ]
  },
  {
   "cell_type": "code",
   "execution_count": 8,
   "id": "9feec005-36f4-4fc0-affd-c3b6a5de6ab8",
   "metadata": {},
   "outputs": [
    {
     "name": "stdout",
     "output_type": "stream",
     "text": [
      "\"<tongrtssionat Rtcord \\n\\nPROCEEDINGS  AND  DEBATES  OF  THE  9 7 lb  CONGRESS,  SECOND  SESSION \\n\\nUnited  States \\nof America \\n\\nVol  130 \\n\\nWASHINGTON,  WEDNESnAY,  NOVEMBER  14,  1984 \\n\\nNo.  136 \\n\\nDaily Digest \\n\\nRESUME  OF  CONGRESSIONAL  ACTIVITY  OF  THE  NINETY-EIGHTH  CONGRESS \\n\\nFIRST  SESSION \\n\\nJanuary  3 through  November  18,  1983 \\n\\nSmau \\nDays in session...................... \\n1~ \\nTime in session ... ; ..................  1,010 hrs., 47' \\nCongressional Record: \\n\\nHr>use \\n146 \\n851  hrs., 45' \\n\\n17,224 \\n\\n10,665 \\n\\nSECOND  SESSION \\n\\nJanuary  23  through  October  12,  1984 \\n\\nHouse \\n120 \\n940 hrs., 28'  852  hrs., 59' \\n\\nSenate \\n131 \\n\\nTotal \\n\\n14,650 \\n\\n12,29~ \\n\\nPages of proceedings .... .. \\nExtensions of Remarks .. . \\nPublic bills enacted into law .. \\nPrivate bills enacted into law. \\nBills in conference ............... .. \\nBills through conference ..... .. \\nMeasures passed, total ........ ; .. \\nSenate bills .................... . \\nHouse bills .................... . \\nSenate joint resolutions .. \\nHouse joint resolutions .. \\nSenate  concurrent  reso-\\nlutions ....................... . \\nHouse  concurrent  reso-\\nlutions ..................... ; .. \\nSimple resolutions ......... . \\nMeasures reported, total ...... .. \\nSenate bills ................... .. \\nHouse bills .................... . \\nSenate joint resolutions .. \\nHouse joint resolutions .. \\nSenate  concurrent  reso-\\nlutions ....................... . \\nHouse  concurrent  reso-\\nlutions ....................... . \\nSimple resolutions ......... . \\nSpecial reports ......... ... .... ..... .. \\nConference reports ..... .......... . \\nMeasures  pending  on  calen-\\ndar ............. ....................... . \\nMeasures introduced, total .. .. \\nBills ....... ...................... .. \\nJoif!t resolutions ........... .. \\nConcurrent resolutions .. . \\nSimple resolutions ........ .. \\nQuorum calls .. ...................... . \\nYea-and-nay votes ................ . \\nRecorded votes ........... ........ .. \\nBills vetoed ......................... .. \\nVetoes overridden ................ . \\n\\n101 \\n\\n3 \\n4 \\n596 \\n170 \\n99 \\n89 \\n34 \\n\\n25 \\n\\n15 \\n164 \\n*570 \\n270 \\n44 \\n87 \\n9 \\n\\n19 \\n\\n2 \\n139 \\n25 \\n4 \\n\\n155 \\n2,795 \\n2,198 \\n209 \\n86 \\n302 \\n18 \\n381 \\n\\n3 \\n\\nTotal \\n\\n27,889 \\n5,985 \\n215 \\n6 \\n5 \\n33 \\n1,207 \\n\\n1,067 \\n\\n114 \\n6 \\n2 \\n29 \\n611 \\n70 \\n234 \\n46 \\n49 \\n\\n16 \\n\\n31 \\n165 \\n*497 \\n23 \\n327 \\n\\n9 \\n\\n3 \\n\\n7 \\n132 \\n54 \\n33 \\n\\n105 \\n\\n5,642  8,437 \\n4,580 \\n440 \\n237 \\n385 \\n35 \\n297 \\n201 \\n4 \\n1 \\n\\n7 \\n\\nDays in session ......... ............ . \\nTime in session .................... .. \\nCongressional Record: \\n\\n\"\n"
     ]
    }
   ],
   "source": [
    "text = extract_text('../PDF Tests/Test3 98res - Adobe OCR.pdf')\n",
    "print(repr(text[:2500]))"
   ]
  },
  {
   "cell_type": "markdown",
   "id": "f16d991e-e436-442a-a746-4080d3b4a9c5",
   "metadata": {},
   "source": [
    "***\n",
    "<font color='blue'>**Conclusion:**</font>  \n",
    "The output from PDFminer is similar to the default read using pypdf. An initial review of the documentation does not show any options that would address the issue of reading columns from top to bottom."
   ]
  },
  {
   "cell_type": "markdown",
   "id": "27092f99-a2a3-4615-a51e-036c94fafd7b",
   "metadata": {
    "tags": []
   },
   "source": [
    "***  \n",
    "# Test: tabula-py\n",
    "Documentation available at <a href='https://tabula-py.readthedocs.io/en/latest/'>tabula-py.readthedocs.io</a>. A thorough walk-through is available at <a href='https://aegis4048.github.io/parse-pdf-files-while-retaining-structure-with-tabula-py'>Pythonic Excursions</a>.\n",
    "***"
   ]
  },
  {
   "cell_type": "code",
   "execution_count": 9,
   "id": "4f6179ad-f4dd-42a7-bc71-2ae5738ccc8c",
   "metadata": {},
   "outputs": [],
   "source": [
    "import tabula\n",
    "import pandas as pd"
   ]
  },
  {
   "cell_type": "code",
   "execution_count": 10,
   "id": "fd9c7266-aadd-4e6c-92e1-06b39bd6d877",
   "metadata": {},
   "outputs": [],
   "source": [
    "# There is a futurewarning being produced by pandas during the read_pdf call below. Run this if you want to disable it\n",
    "import warnings\n",
    "warnings.simplefilter(\"ignore\", category=FutureWarning)"
   ]
  },
  {
   "cell_type": "code",
   "execution_count": 11,
   "id": "204a4fec-01a2-46fc-b9d5-fb4786aa10b4",
   "metadata": {},
   "outputs": [],
   "source": [
    "df_list = tabula.read_pdf('../PDF Tests/Test3 98res - Adobe OCR.pdf', pages=1)"
   ]
  },
  {
   "cell_type": "code",
   "execution_count": 12,
   "id": "94ef96ed-99bc-4d4f-9398-2ca8a773ec26",
   "metadata": {},
   "outputs": [
    {
     "data": {
      "text/html": [
       "<div>\n",
       "<style scoped>\n",
       "    .dataframe tbody tr th:only-of-type {\n",
       "        vertical-align: middle;\n",
       "    }\n",
       "\n",
       "    .dataframe tbody tr th {\n",
       "        vertical-align: top;\n",
       "    }\n",
       "\n",
       "    .dataframe thead th {\n",
       "        text-align: right;\n",
       "    }\n",
       "</style>\n",
       "<table border=\"1\" class=\"dataframe\">\n",
       "  <thead>\n",
       "    <tr style=\"text-align: right;\">\n",
       "      <th></th>\n",
       "      <th>Unnamed: 0</th>\n",
       "      <th>Smau</th>\n",
       "      <th>Hr&gt;use</th>\n",
       "      <th>Total</th>\n",
       "      <th>Unnamed: 1</th>\n",
       "      <th>Senate</th>\n",
       "      <th>House</th>\n",
       "      <th>Total.1</th>\n",
       "    </tr>\n",
       "  </thead>\n",
       "  <tbody>\n",
       "    <tr>\n",
       "      <th>0</th>\n",
       "      <td>Days in session............ ..........</td>\n",
       "      <td>1~</td>\n",
       "      <td>146</td>\n",
       "      <td>NaN</td>\n",
       "      <td>Days in session ......... .. .......... .</td>\n",
       "      <td>131</td>\n",
       "      <td>120</td>\n",
       "      <td>NaN</td>\n",
       "    </tr>\n",
       "    <tr>\n",
       "      <th>1</th>\n",
       "      <td>Time in session ... ;. .......... .. ..... 1,0...</td>\n",
       "      <td>NaN</td>\n",
       "      <td>851 hrs., 45'</td>\n",
       "      <td>NaN</td>\n",
       "      <td>Time in session ...... ............ .. ..</td>\n",
       "      <td>940 hrs., 28'</td>\n",
       "      <td>852 hrs., 59'</td>\n",
       "      <td>NaN</td>\n",
       "    </tr>\n",
       "    <tr>\n",
       "      <th>2</th>\n",
       "      <td>Congressional Record:</td>\n",
       "      <td>NaN</td>\n",
       "      <td>NaN</td>\n",
       "      <td>NaN</td>\n",
       "      <td>Congressional Record:</td>\n",
       "      <td>NaN</td>\n",
       "      <td>NaN</td>\n",
       "      <td>NaN</td>\n",
       "    </tr>\n",
       "    <tr>\n",
       "      <th>3</th>\n",
       "      <td>Pages of proceedings .... ..</td>\n",
       "      <td>17,224</td>\n",
       "      <td>10,665 27,889</td>\n",
       "      <td>NaN</td>\n",
       "      <td>Pages of proceedings .... ..</td>\n",
       "      <td>14,650</td>\n",
       "      <td>12,29~ 26,896</td>\n",
       "      <td>NaN</td>\n",
       "    </tr>\n",
       "    <tr>\n",
       "      <th>4</th>\n",
       "      <td>Extensions of Remarks .. .</td>\n",
       "      <td>NaN</td>\n",
       "      <td>NaN</td>\n",
       "      <td>5,985</td>\n",
       "      <td>Extensions of Remarks .. .</td>\n",
       "      <td>NaN</td>\n",
       "      <td>NaN</td>\n",
       "      <td>4,580</td>\n",
       "    </tr>\n",
       "  </tbody>\n",
       "</table>\n",
       "</div>"
      ],
      "text/plain": [
       "                                          Unnamed: 0    Smau         Hr>use  \\\n",
       "0             Days in session............ ..........      1~            146   \n",
       "1  Time in session ... ;. .......... .. ..... 1,0...     NaN  851 hrs., 45'   \n",
       "2                              Congressional Record:     NaN            NaN   \n",
       "3                       Pages of proceedings .... ..  17,224  10,665 27,889   \n",
       "4                         Extensions of Remarks .. .     NaN            NaN   \n",
       "\n",
       "   Total                                 Unnamed: 1         Senate  \\\n",
       "0    NaN  Days in session ......... .. .......... .            131   \n",
       "1    NaN  Time in session ...... ............ .. ..  940 hrs., 28'   \n",
       "2    NaN                      Congressional Record:            NaN   \n",
       "3    NaN               Pages of proceedings .... ..         14,650   \n",
       "4  5,985                 Extensions of Remarks .. .            NaN   \n",
       "\n",
       "           House Total.1  \n",
       "0            120     NaN  \n",
       "1  852 hrs., 59'     NaN  \n",
       "2            NaN     NaN  \n",
       "3  12,29~ 26,896     NaN  \n",
       "4            NaN   4,580  "
      ]
     },
     "execution_count": 12,
     "metadata": {},
     "output_type": "execute_result"
    }
   ],
   "source": [
    "page1_df = df_list[0]\n",
    "page1_df.head()"
   ]
  },
  {
   "cell_type": "markdown",
   "id": "101d2f54-7278-4be7-9819-6cd8376bd55e",
   "metadata": {},
   "source": [
    "***\n",
    "<font color='blue'>**Conclusion:**</font>  \n",
    "Contents are read into a pandas dataframe and appear fairly clean. This is the most promising solution."
   ]
  },
  {
   "cell_type": "markdown",
   "id": "ad560cd5-6757-44a3-a1ea-82886c6870d8",
   "metadata": {
    "tags": []
   },
   "source": [
    "***  \n",
    "# Test: camelot-py\n",
    "Documentation available at <a href='https://camelot-py.readthedocs.io/en/master/'>camelot-py.readthedocs.io</a>.\n",
    "***"
   ]
  },
  {
   "cell_type": "code",
   "execution_count": 13,
   "id": "2a530123-d45d-4aa7-a6df-10754d07b573",
   "metadata": {},
   "outputs": [],
   "source": [
    "import camelot"
   ]
  },
  {
   "cell_type": "code",
   "execution_count": 14,
   "id": "033be675-c666-41e9-b50e-ac355adc22b5",
   "metadata": {},
   "outputs": [],
   "source": [
    "tables = camelot.read_pdf('../PDF Tests/Test3 98res - Adobe OCR.pdf', flavor='stream')"
   ]
  },
  {
   "cell_type": "code",
   "execution_count": 15,
   "id": "c4ef46c8-e757-4a07-92c9-1596d9616bb3",
   "metadata": {},
   "outputs": [
    {
     "data": {
      "text/plain": [
       "<TableList n=1>"
      ]
     },
     "execution_count": 15,
     "metadata": {},
     "output_type": "execute_result"
    }
   ],
   "source": [
    "tables"
   ]
  },
  {
   "cell_type": "code",
   "execution_count": 16,
   "id": "f098fa01-2648-45ba-bdea-e43f2a16d19e",
   "metadata": {},
   "outputs": [
    {
     "data": {
      "text/html": [
       "<div>\n",
       "<style scoped>\n",
       "    .dataframe tbody tr th:only-of-type {\n",
       "        vertical-align: middle;\n",
       "    }\n",
       "\n",
       "    .dataframe tbody tr th {\n",
       "        vertical-align: top;\n",
       "    }\n",
       "\n",
       "    .dataframe thead th {\n",
       "        text-align: right;\n",
       "    }\n",
       "</style>\n",
       "<table border=\"1\" class=\"dataframe\">\n",
       "  <thead>\n",
       "    <tr style=\"text-align: right;\">\n",
       "      <th></th>\n",
       "      <th>0</th>\n",
       "      <th>1</th>\n",
       "      <th>2</th>\n",
       "      <th>3</th>\n",
       "      <th>4</th>\n",
       "      <th>5</th>\n",
       "      <th>6</th>\n",
       "      <th>7</th>\n",
       "    </tr>\n",
       "  </thead>\n",
       "  <tbody>\n",
       "    <tr>\n",
       "      <th>0</th>\n",
       "      <td></td>\n",
       "      <td>RESUME  OF  CONGRESSIONAL  ACTIVITY  OF  THE  ...</td>\n",
       "      <td></td>\n",
       "      <td></td>\n",
       "      <td></td>\n",
       "      <td></td>\n",
       "      <td></td>\n",
       "      <td></td>\n",
       "    </tr>\n",
       "    <tr>\n",
       "      <th>1</th>\n",
       "      <td></td>\n",
       "      <td>FIRST  SESSION</td>\n",
       "      <td></td>\n",
       "      <td></td>\n",
       "      <td></td>\n",
       "      <td>SECOND  SESSION</td>\n",
       "      <td></td>\n",
       "      <td></td>\n",
       "    </tr>\n",
       "    <tr>\n",
       "      <th>2</th>\n",
       "      <td></td>\n",
       "      <td>January  3 through  November  18,  1983</td>\n",
       "      <td></td>\n",
       "      <td></td>\n",
       "      <td></td>\n",
       "      <td>January  23  through  October  12,  1984</td>\n",
       "      <td></td>\n",
       "      <td></td>\n",
       "    </tr>\n",
       "    <tr>\n",
       "      <th>3</th>\n",
       "      <td></td>\n",
       "      <td></td>\n",
       "      <td></td>\n",
       "      <td></td>\n",
       "      <td></td>\n",
       "      <td>Senate</td>\n",
       "      <td>House</td>\n",
       "      <td>Total</td>\n",
       "    </tr>\n",
       "    <tr>\n",
       "      <th>4</th>\n",
       "      <td></td>\n",
       "      <td>Smau</td>\n",
       "      <td>Hr&gt;use</td>\n",
       "      <td>Total</td>\n",
       "      <td></td>\n",
       "      <td></td>\n",
       "      <td></td>\n",
       "      <td></td>\n",
       "    </tr>\n",
       "    <tr>\n",
       "      <th>5</th>\n",
       "      <td>Days in session......................</td>\n",
       "      <td>1~</td>\n",
       "      <td>146</td>\n",
       "      <td></td>\n",
       "      <td>Days in session ......... ............ .</td>\n",
       "      <td>131</td>\n",
       "      <td>120</td>\n",
       "      <td></td>\n",
       "    </tr>\n",
       "    <tr>\n",
       "      <th>6</th>\n",
       "      <td>Time in session ... ; ..................  1,01...</td>\n",
       "      <td></td>\n",
       "      <td>851  hrs., 45'</td>\n",
       "      <td></td>\n",
       "      <td>Time in session .................... ..</td>\n",
       "      <td>940 hrs., 28'</td>\n",
       "      <td>852  hrs., 59'</td>\n",
       "      <td></td>\n",
       "    </tr>\n",
       "    <tr>\n",
       "      <th>7</th>\n",
       "      <td>Congressional Record:</td>\n",
       "      <td></td>\n",
       "      <td></td>\n",
       "      <td></td>\n",
       "      <td>Congressional Record:</td>\n",
       "      <td></td>\n",
       "      <td></td>\n",
       "      <td></td>\n",
       "    </tr>\n",
       "    <tr>\n",
       "      <th>8</th>\n",
       "      <td></td>\n",
       "      <td></td>\n",
       "      <td></td>\n",
       "      <td></td>\n",
       "      <td></td>\n",
       "      <td>14,650</td>\n",
       "      <td>12,29~</td>\n",
       "      <td>26,896</td>\n",
       "    </tr>\n",
       "    <tr>\n",
       "      <th>9</th>\n",
       "      <td>Pages of proceedings .... ..</td>\n",
       "      <td>17,224</td>\n",
       "      <td>10,665</td>\n",
       "      <td>27,889</td>\n",
       "      <td>Pages of proceedings .... ..</td>\n",
       "      <td></td>\n",
       "      <td></td>\n",
       "      <td></td>\n",
       "    </tr>\n",
       "  </tbody>\n",
       "</table>\n",
       "</div>"
      ],
      "text/plain": [
       "                                                   0  \\\n",
       "0                                                      \n",
       "1                                                      \n",
       "2                                                      \n",
       "3                                                      \n",
       "4                                                      \n",
       "5              Days in session......................   \n",
       "6  Time in session ... ; ..................  1,01...   \n",
       "7                              Congressional Record:   \n",
       "8                                                      \n",
       "9                       Pages of proceedings .... ..   \n",
       "\n",
       "                                                   1               2       3  \\\n",
       "0  RESUME  OF  CONGRESSIONAL  ACTIVITY  OF  THE  ...                           \n",
       "1                                     FIRST  SESSION                           \n",
       "2            January  3 through  November  18,  1983                           \n",
       "3                                                                              \n",
       "4                                               Smau          Hr>use   Total   \n",
       "5                                                 1~             146           \n",
       "6                                                     851  hrs., 45'           \n",
       "7                                                                              \n",
       "8                                                                              \n",
       "9                                             17,224          10,665  27,889   \n",
       "\n",
       "                                          4  \\\n",
       "0                                             \n",
       "1                                             \n",
       "2                                             \n",
       "3                                             \n",
       "4                                             \n",
       "5  Days in session ......... ............ .   \n",
       "6   Time in session .................... ..   \n",
       "7                     Congressional Record:   \n",
       "8                                             \n",
       "9              Pages of proceedings .... ..   \n",
       "\n",
       "                                          5               6       7  \n",
       "0                                                                    \n",
       "1                           SECOND  SESSION                          \n",
       "2  January  23  through  October  12,  1984                          \n",
       "3                                    Senate           House   Total  \n",
       "4                                                                    \n",
       "5                                       131             120          \n",
       "6                             940 hrs., 28'  852  hrs., 59'          \n",
       "7                                                                    \n",
       "8                                    14,650          12,29~  26,896  \n",
       "9                                                                    "
      ]
     },
     "execution_count": 16,
     "metadata": {},
     "output_type": "execute_result"
    }
   ],
   "source": [
    "tables[0].df.head(10)"
   ]
  },
  {
   "cell_type": "markdown",
   "id": "5528c273-5a8e-4bc4-9943-eb22c8f8009d",
   "metadata": {},
   "source": [
    "***\n",
    "<font color='blue'>**Conclusion:**</font>  \n",
    "Successfully reads the text into a dataframe, but is not a clean as tabula-py."
   ]
  },
  {
   "cell_type": "markdown",
   "id": "1e030918-2e2b-47ba-9281-31a76362e83e",
   "metadata": {
    "tags": []
   },
   "source": [
    "***  \n",
    "# Test: pdfplumber\n",
    "Documentation available at <a href='https://pypi.org/project/pdfplumber/'>PyPI</a>.\n",
    "***"
   ]
  },
  {
   "cell_type": "code",
   "execution_count": 17,
   "id": "740a085f-d1df-4239-88a8-f34568cba6b4",
   "metadata": {},
   "outputs": [],
   "source": [
    "import pdfplumber"
   ]
  },
  {
   "cell_type": "code",
   "execution_count": 18,
   "id": "e8452866-10ab-4afe-94c7-2af02d832a57",
   "metadata": {},
   "outputs": [],
   "source": [
    "file = pdfplumber.open('98resocr.pdf')\n",
    "dfs = file.pages[0].extract_table(table_settings={'horizontal_strategy':'text', 'vertical_strategy':'text'})\n",
    "file.close()"
   ]
  },
  {
   "cell_type": "code",
   "execution_count": 19,
   "id": "d4e314be-cc8c-44b8-929b-ca5975125eae",
   "metadata": {},
   "outputs": [
    {
     "data": {
      "text/plain": [
       "[['Vol 1',\n",
       "  '30 WASHI',\n",
       "  'NGT',\n",
       "  'ON,',\n",
       "  'WED',\n",
       "  'NESn',\n",
       "  'AY,',\n",
       "  'NOVEMBER 14, 198',\n",
       "  '4',\n",
       "  'No.',\n",
       "  '136'],\n",
       " ['', '', '', '', '', '', '', '', '', '', ''],\n",
       " ['', '', '', 'D', 'ail', 'y', 'Di', 'gest', '', '', '']]"
      ]
     },
     "execution_count": 19,
     "metadata": {},
     "output_type": "execute_result"
    }
   ],
   "source": [
    "dfs[0:3]"
   ]
  },
  {
   "cell_type": "markdown",
   "id": "65f3c2ec-9504-4498-8f1e-4871147cd5ca",
   "metadata": {},
   "source": [
    "***\n",
    "<font color='blue'>**Conclusion:**</font>  \n",
    "Reads the text, but does not parse it correctly. Not a workable solution."
   ]
  },
  {
   "cell_type": "markdown",
   "id": "f5ec869c-1cfc-40ea-924d-00b29508882b",
   "metadata": {
    "tags": []
   },
   "source": [
    "***  \n",
    "# Findings\n",
    "With this limited testing, tabula-py appears to be the most promising tool for this project."
   ]
  },
  {
   "cell_type": "markdown",
   "id": "c9ccbc81-2fca-4f53-9a26-25a20b47ca5d",
   "metadata": {},
   "source": [
    "***\n",
    "**End**\n",
    "***"
   ]
  }
 ],
 "metadata": {
  "kernelspec": {
   "display_name": "Python 3 (ipykernel)",
   "language": "python",
   "name": "python3"
  },
  "language_info": {
   "codemirror_mode": {
    "name": "ipython",
    "version": 3
   },
   "file_extension": ".py",
   "mimetype": "text/x-python",
   "name": "python",
   "nbconvert_exporter": "python",
   "pygments_lexer": "ipython3",
   "version": "3.12.2"
  }
 },
 "nbformat": 4,
 "nbformat_minor": 5
}
